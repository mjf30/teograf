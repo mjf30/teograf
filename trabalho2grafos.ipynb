{
 "cells": [
  {
   "cell_type": "code",
   "execution_count": 2,
   "metadata": {},
   "outputs": [],
   "source": [
    "import numpy as np\n",
    "# bibiloteca para trabalhar com matrizes e arrays de forma eficiente \n",
    "import matplotlib.pyplot as plt\n",
    "import collections\n",
    "from bisect import insort\n",
    "# biblioteca para listas encadeadas, filas e pilhas  \n",
    "import time\n",
    "import random\n",
    "from math import log\n"
   ]
  },
  {
   "cell_type": "code",
   "execution_count": 3,
   "metadata": {},
   "outputs": [],
   "source": [
    "from heapq import heappush, heappop\n",
    "import itertools\n",
    "\n",
    "__all__ = [\"PriorityQueue\"]\n",
    "\n",
    "\n",
    "class PriorityQueue:\n",
    "    sentinel = object()\n",
    "\n",
    "    def __init__(self):\n",
    "        self.heap, self.entries = [], {}\n",
    "        self.counter = itertools.count()\n",
    "\n",
    "    def push(self, item, priority):\n",
    "        if item in self.entries:\n",
    "            self.entries[item][2] = self.sentinel\n",
    "\n",
    "        entry = self.entries[item] = [priority, next(self.counter), item]\n",
    "        heappush(self.heap, entry)\n",
    "\n",
    "    def pop(self):\n",
    "        while True:\n",
    "            priority, count, item = heappop(self.heap)\n",
    "\n",
    "            if item is not self.sentinel:\n",
    "                del self.entries[item]\n",
    "                return item"
   ]
  },
  {
   "cell_type": "code",
   "execution_count": 30,
   "metadata": {},
   "outputs": [],
   "source": [
    "\n",
    "grafo1 = r\"C:\\Users\\Breno\\Downloads\\Nova pasta\\grafo_W_1.txt\"\n",
    "grafo2 = r\"C:\\Users\\Breno\\Downloads\\Nova pasta\\grafo_W_2.txt\"\n",
    "grafo3 = r\"C:\\Users\\Breno\\Downloads\\Nova pasta\\grafo_W_3.txt\"\n",
    "grafo4 = r\"C:\\Users\\Breno\\Downloads\\Nova pasta\\grafo_W_4.txt\"\n",
    "grafo5 = r\"C:\\Users\\Breno\\Downloads\\Nova pasta\\grafo_W_5.txt\"\n",
    "redecolaboracao = r\"C:\\Users\\Breno\\Downloads\\Nova pasta\\rede_colaboracao.txt\"\n",
    "redecolaboracaovertices = r\"C:\\Users\\Breno\\Downloads\\Nova pasta\\rede_colaboracao_vertices.txt\""
   ]
  },
  {
   "cell_type": "code",
   "execution_count": 4,
   "metadata": {},
   "outputs": [],
   "source": [
    "class Graph:\n",
    "    #inicializa um objeto do tipo grafo, necessita de um arquivo de input e o formato\n",
    "    def __init__(self, file: str): \n",
    " \n",
    "        self.file = file\n",
    "        with open(file) as f:\n",
    "            self.n = int(f.readline())\n",
    "\n",
    "    def load(self):  \n",
    "        self.array =  [collections.deque([]) for i in range(self.n)]\n",
    "        with open(self.file) as f:\n",
    "                    for edge in f:\n",
    "                         try: \n",
    "                              edges = edge.split()\n",
    "                              if ((int(edges[1]) not in self.array[int(edges[0])-1])) and (edges[0] != edges[1]) :   \n",
    "                                   self.array[int(edges[0])-1].append(  (  int(edges[1]),float(edges[2]) )  )\n",
    "                                   self.array[int(edges[1])-1].append(  (  int(edges[0]),float(edges[2]) )  )\n",
    "                         except: \n",
    "                              pass  \n",
    "                         \n",
    "\n",
    "    def DijkstraHeap(self,vert):\n",
    "        parents = [0 for i in range(self.n)]\n",
    "        dist_array = [float(\"inf\") for i in range(self.n)]\n",
    "        dist_array[vert-1] = 0\n",
    "        dist_heap = PriorityQueue()\n",
    "        for i in range(self.n):\n",
    "            dist_heap.push(item=i+1, priority=dist_array[i])\n",
    "        while len(dist_heap.entries) != 0:\n",
    "            u = dist_heap.pop()\n",
    "            for v in self.array[u-1]:\n",
    "                if dist_array[v[0]-1] > dist_array[u-1] + v[1]:\n",
    "                    parents[v[0]-1] = u\n",
    "                    dist_array[v[0]-1] = dist_array[u-1] + v[1]\n",
    "                    dist_heap.push(v[0], dist_array[u-1] + v[1])\n",
    "        return dist_array, parents   \n",
    "\n",
    "\n",
    "\n",
    "    def DijkstraArray(self,vert):\n",
    "        parents = [0 for i in range(self.n)]\n",
    "        dist_array = [float(\"inf\") for i in range(self.n)]\n",
    "        dist_array[vert-1] = 0\n",
    "        visited = [0 for i in range(self.n)]\n",
    "        while 0 in visited:\n",
    "            min_dist = float(\"inf\")\n",
    "            u = 0\n",
    "            for i in range(self.n):\n",
    "                if (dist_array[i] < min_dist) and (visited[i] == 0):\n",
    "                    min_dist = dist_array[i]\n",
    "                    u = i+1\n",
    "            visited[u-1] = 1\n",
    "            for v in self.array[u-1]:\n",
    "                 if dist_array[v[0]-1] > dist_array[u-1] + v[1]:\n",
    "                      parents[v[0]-1] = u\n",
    "                      dist_array[v[0]-1] = dist_array[u-1] + v[1]\n",
    "        return dist_array, parents \n",
    "        \n",
    "    def MinPath_heap(self,u,v):\n",
    "        lists = self.DijkstraHeap(v)\n",
    "        dists = lists[0]\n",
    "        parents = lists[1]\n",
    "        path = [u]\n",
    "        while True:\n",
    "            next = parents[path[-1]-1]\n",
    "            if next == 0: \n",
    "                break\n",
    "            path.append(next)\n",
    "\n",
    "        return(dists[u-1], path)     "
   ]
  },
  {
   "cell_type": "code",
   "execution_count": 10,
   "metadata": {},
   "outputs": [
    {
     "ename": "KeyboardInterrupt",
     "evalue": "",
     "output_type": "error",
     "traceback": [
      "\u001b[1;31m---------------------------------------------------------------------------\u001b[0m",
      "\u001b[1;31mKeyboardInterrupt\u001b[0m                         Traceback (most recent call last)",
      "\u001b[1;32mc:\\Users\\Breno\\AppData\\Local\\Microsoft\\Windows\\INetCache\\IE\\1682EPBW\\jupiter2[1].ipynb Cell 7\u001b[0m line \u001b[0;36m2\n\u001b[0;32m      <a href='vscode-notebook-cell:/c%3A/Users/Breno/AppData/Local/Microsoft/Windows/INetCache/IE/1682EPBW/jupiter2%5B1%5D.ipynb#W6sZmlsZQ%3D%3D?line=0'>1</a>\u001b[0m start_time \u001b[39m=\u001b[39m time\u001b[39m.\u001b[39mtime()\n\u001b[1;32m----> <a href='vscode-notebook-cell:/c%3A/Users/Breno/AppData/Local/Microsoft/Windows/INetCache/IE/1682EPBW/jupiter2%5B1%5D.ipynb#W6sZmlsZQ%3D%3D?line=1'>2</a>\u001b[0m graph5\u001b[39m.\u001b[39;49mDijkstraHeap(\u001b[39m2\u001b[39;49m)\n\u001b[0;32m      <a href='vscode-notebook-cell:/c%3A/Users/Breno/AppData/Local/Microsoft/Windows/INetCache/IE/1682EPBW/jupiter2%5B1%5D.ipynb#W6sZmlsZQ%3D%3D?line=2'>3</a>\u001b[0m end_time \u001b[39m=\u001b[39m time\u001b[39m.\u001b[39mtime()\n\u001b[0;32m      <a href='vscode-notebook-cell:/c%3A/Users/Breno/AppData/Local/Microsoft/Windows/INetCache/IE/1682EPBW/jupiter2%5B1%5D.ipynb#W6sZmlsZQ%3D%3D?line=3'>4</a>\u001b[0m \u001b[39mprint\u001b[39m(end_time \u001b[39m-\u001b[39m start_time)\n",
      "\u001b[1;32mc:\\Users\\Breno\\AppData\\Local\\Microsoft\\Windows\\INetCache\\IE\\1682EPBW\\jupiter2[1].ipynb Cell 7\u001b[0m line \u001b[0;36m2\n\u001b[0;32m     <a href='vscode-notebook-cell:/c%3A/Users/Breno/AppData/Local/Microsoft/Windows/INetCache/IE/1682EPBW/jupiter2%5B1%5D.ipynb#W6sZmlsZQ%3D%3D?line=21'>22</a>\u001b[0m \u001b[39mdef\u001b[39;00m \u001b[39mDijkstraHeap\u001b[39m(\u001b[39mself\u001b[39m,vert):\n\u001b[1;32m---> <a href='vscode-notebook-cell:/c%3A/Users/Breno/AppData/Local/Microsoft/Windows/INetCache/IE/1682EPBW/jupiter2%5B1%5D.ipynb#W6sZmlsZQ%3D%3D?line=22'>23</a>\u001b[0m     parents \u001b[39m=\u001b[39m [\u001b[39m0\u001b[39m \u001b[39mfor\u001b[39;00m i \u001b[39min\u001b[39;00m \u001b[39mrange\u001b[39m(\u001b[39mself\u001b[39m\u001b[39m.\u001b[39mn)]\n\u001b[0;32m     <a href='vscode-notebook-cell:/c%3A/Users/Breno/AppData/Local/Microsoft/Windows/INetCache/IE/1682EPBW/jupiter2%5B1%5D.ipynb#W6sZmlsZQ%3D%3D?line=23'>24</a>\u001b[0m     dist_array \u001b[39m=\u001b[39m [\u001b[39mfloat\u001b[39m(\u001b[39m\"\u001b[39m\u001b[39minf\u001b[39m\u001b[39m\"\u001b[39m) \u001b[39mfor\u001b[39;00m i \u001b[39min\u001b[39;00m \u001b[39mrange\u001b[39m(\u001b[39mself\u001b[39m\u001b[39m.\u001b[39mn)]\n\u001b[0;32m     <a href='vscode-notebook-cell:/c%3A/Users/Breno/AppData/Local/Microsoft/Windows/INetCache/IE/1682EPBW/jupiter2%5B1%5D.ipynb#W6sZmlsZQ%3D%3D?line=24'>25</a>\u001b[0m     dist_array[vert\u001b[39m-\u001b[39m\u001b[39m1\u001b[39m] \u001b[39m=\u001b[39m \u001b[39m0\u001b[39m\n",
      "\u001b[1;32mc:\\Users\\Breno\\AppData\\Local\\Microsoft\\Windows\\INetCache\\IE\\1682EPBW\\jupiter2[1].ipynb Cell 7\u001b[0m line \u001b[0;36m2\n\u001b[0;32m     <a href='vscode-notebook-cell:/c%3A/Users/Breno/AppData/Local/Microsoft/Windows/INetCache/IE/1682EPBW/jupiter2%5B1%5D.ipynb#W6sZmlsZQ%3D%3D?line=21'>22</a>\u001b[0m \u001b[39mdef\u001b[39;00m \u001b[39mDijkstraHeap\u001b[39m(\u001b[39mself\u001b[39m,vert):\n\u001b[1;32m---> <a href='vscode-notebook-cell:/c%3A/Users/Breno/AppData/Local/Microsoft/Windows/INetCache/IE/1682EPBW/jupiter2%5B1%5D.ipynb#W6sZmlsZQ%3D%3D?line=22'>23</a>\u001b[0m     parents \u001b[39m=\u001b[39m [\u001b[39m0\u001b[39m \u001b[39mfor\u001b[39;00m i \u001b[39min\u001b[39;00m \u001b[39mrange\u001b[39m(\u001b[39mself\u001b[39m\u001b[39m.\u001b[39mn)]\n\u001b[0;32m     <a href='vscode-notebook-cell:/c%3A/Users/Breno/AppData/Local/Microsoft/Windows/INetCache/IE/1682EPBW/jupiter2%5B1%5D.ipynb#W6sZmlsZQ%3D%3D?line=23'>24</a>\u001b[0m     dist_array \u001b[39m=\u001b[39m [\u001b[39mfloat\u001b[39m(\u001b[39m\"\u001b[39m\u001b[39minf\u001b[39m\u001b[39m\"\u001b[39m) \u001b[39mfor\u001b[39;00m i \u001b[39min\u001b[39;00m \u001b[39mrange\u001b[39m(\u001b[39mself\u001b[39m\u001b[39m.\u001b[39mn)]\n\u001b[0;32m     <a href='vscode-notebook-cell:/c%3A/Users/Breno/AppData/Local/Microsoft/Windows/INetCache/IE/1682EPBW/jupiter2%5B1%5D.ipynb#W6sZmlsZQ%3D%3D?line=24'>25</a>\u001b[0m     dist_array[vert\u001b[39m-\u001b[39m\u001b[39m1\u001b[39m] \u001b[39m=\u001b[39m \u001b[39m0\u001b[39m\n",
      "\u001b[1;31mKeyboardInterrupt\u001b[0m: "
     ]
    }
   ],
   "source": [
    "start_time = time.time()\n",
    "graph5.DijkstraHeap(2)\n",
    "end_time = time.time()\n",
    "print(end_time - start_time)"
   ]
  },
  {
   "cell_type": "code",
   "execution_count": 6,
   "metadata": {},
   "outputs": [],
   "source": [
    "r = Graph(redecolaboração)\n",
    "r.load()\n"
   ]
  },
  {
   "cell_type": "code",
   "execution_count": 39,
   "metadata": {},
   "outputs": [],
   "source": [
    "def ler_arquivo_e_transformar_em_lista(nome_arquivo):\n",
    "    # Inicialize a lista\n",
    "    lista = [0]\n",
    "\n",
    "    # Abra o arquivo para leitura com a codificação UTF-8\n",
    "    with open(nome_arquivo, 'r', encoding='utf-8') as arquivo:\n",
    "        # Use um contador para criar o primeiro elemento\n",
    "        \n",
    "\n",
    "        # Itere pelas linhas do arquivo\n",
    "        for linha in arquivo:\n",
    "            # Divida a linha em duas partes usando a vírgula como separador\n",
    "            partes = linha.strip().split(',')\n",
    "\n",
    "            # Adicione as partes à lista\n",
    "            lista.append( partes)\n",
    "\n",
    "            \n",
    "    return lista\n",
    "listavertices = ler_arquivo_e_transformar_em_lista(redecolaboracaovertices)\n",
    "\n",
    "def encontrar_numero_por_elemento(elemento):\n",
    "    global listavertices\n",
    "    for sublista in listavertices[1:]:\n",
    "        if sublista[1] == elemento:\n",
    "            return int(sublista[0])\n",
    "    return None  # Retorne None se o elemento não for encontrado\n",
    "\n",
    "\n",
    "\n"
   ]
  },
  {
   "cell_type": "code",
   "execution_count": 44,
   "metadata": {},
   "outputs": [
    {
     "name": "stdout",
     "output_type": "stream",
     "text": [
      "2722\n",
      "11365\n",
      "471365\n",
      "5709\n",
      "11386\n",
      "343930\n"
     ]
    }
   ],
   "source": [
    "nomes = ['Edsger W. Dijkstra','Alan M. Turing', 'J. B. Kruskal', 'Jon M. Kleinberg', 'Éva Tardos', 'Daniel R. Figueiredo']\n",
    "for x in nomes:\n",
    "    print(encontrar_numero_por_elemento(x))"
   ]
  },
  {
   "cell_type": "code",
   "execution_count": 45,
   "metadata": {},
   "outputs": [
    {
     "name": "stdout",
     "output_type": "stream",
     "text": [
      "(inf, [2722])\n",
      "(3.48036845488905, [2722, 9490, 7200, 10343, 646765, 490368, 10746, 3655, 471365])\n",
      "(2.706993617556464, [2722, 217250, 11456, 768, 11448, 101826, 12242, 11834, 9608, 5709])\n",
      "(2.7535141793573357, [2722, 217250, 11456, 768, 6479, 8528, 10572, 357587, 11649, 3694, 318911, 11386])\n",
      "(2.9428308695367864, [2722, 9490, 7200, 391667, 371226, 4379, 68773, 11466, 343930])\n"
     ]
    }
   ],
   "source": [
    "for x in nomes[1:]:\n",
    "    print(r.MinPath_heap(2722,encontrar_numero_por_elemento(x)))"
   ]
  }
 ],
 "metadata": {
  "kernelspec": {
   "display_name": "Python 3",
   "language": "python",
   "name": "python3"
  },
  "language_info": {
   "codemirror_mode": {
    "name": "ipython",
    "version": 3
   },
   "file_extension": ".py",
   "mimetype": "text/x-python",
   "name": "python",
   "nbconvert_exporter": "python",
   "pygments_lexer": "ipython3",
   "version": "3.10.11"
  },
  "orig_nbformat": 4
 },
 "nbformat": 4,
 "nbformat_minor": 2
}

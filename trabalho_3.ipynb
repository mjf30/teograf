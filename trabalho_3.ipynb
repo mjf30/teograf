{
 "cells": [
  {
   "cell_type": "code",
   "execution_count": 1,
   "metadata": {},
   "outputs": [],
   "source": [
    "import numpy as np\n",
    "# bibiloteca para trabalhar com matrizes e arrays de forma eficiente \n",
    " \n",
    "import collections\n",
    "from bisect import insort\n",
    "# biblioteca para listas encadeadas, filas e pilhas  \n",
    " \n",
    "from math import log\n"
   ]
  },
  {
   "cell_type": "code",
   "execution_count": 2,
   "metadata": {},
   "outputs": [],
   "source": [
    "grafo0 = r\"C:\\Users\\Murilo\\GRAFOS\\grafo_teste.txt\"\n",
    "grafo1 = r\"C:\\Users\\Murilo\\GRAFOS\\grafo_rf_1.txt\"\n",
    "grafo2 = r\"C:\\Users\\Murilo\\GRAFOS\\grafo_rf_2.txt\"\n",
    "grafo3 = r\"C:\\Users\\Murilo\\GRAFOS\\grafo_rf_3.txt\"\n",
    "grafo4 = r\"C:\\Users\\Murilo\\GRAFOS\\grafo_rf_4.txt\"\n",
    "grafo5 = r\"C:\\Users\\Murilo\\GRAFOS\\grafo_rf_5.txt\"\n",
    "grafo6 = r\"C:\\Users\\Murilo\\GRAFOS\\grafo_rf_6.txt\"\n",
    " "
   ]
  },
  {
   "cell_type": "code",
   "execution_count": 101,
   "metadata": {},
   "outputs": [],
   "source": [
    "class Graph: \n",
    "    \n",
    "    def __init__(self, file: str): \n",
    " \n",
    "        self.file = file\n",
    "        with open(file) as f:\n",
    "            self.n = int(f.readline())\n",
    "\n",
    "    def load(self):  \n",
    "        self.array =  [{} for i in range(self.n)]\n",
    "        with open(self.file) as f:\n",
    "                    for edge in f:\n",
    "                         try: \n",
    "                              edges = edge.split()\n",
    "                              if (int(edges[1]) not in self.array[int(edges[0])-1]):   \n",
    "                                   self.array[int(edges[0])-1][int(edges[1])]  = [int(edges[2]), 0]\n",
    "                                \n",
    "                         except: \n",
    "                              pass  \n",
    "                         \n",
    "    def neighbours(self,array, v):\n",
    "            return array[v-1].keys()                       \n",
    " \n",
    "                          \n",
    "    def path(self,array, s, t):\n",
    "          find = False\n",
    "          queue = collections.deque([])\n",
    "          vector = [False for i in range(self.n)]\n",
    "          parents = [0 for i in range(self.n)]\n",
    "          vector[s-1] = True\n",
    "          queue.insert(0,s)\n",
    "          while len(queue) != 0:\n",
    "               v = queue.pop()\n",
    "               for w in self.neighbours(array,v):\n",
    "                    if vector[w-1] == False:\n",
    "                         if array[v-1][w][0] != 0:\n",
    "                              vector[w-1] = True\n",
    "                              parents[w-1] = v\n",
    "\n",
    "                              if w == t: \n",
    "                                   parents[w-1] = v\n",
    "                                   \n",
    "                                   queue = []\n",
    "                                   find = True\n",
    "                                   break     \n",
    "                              \n",
    "                              queue.insert(0,w)\n",
    "          if find == False: return False               \n",
    "          path = [t]\n",
    "\n",
    "          while path[-1] != s:\n",
    "             path.append(parents[path[-1]-1])              \n",
    "          return path[::-1] \n",
    "    \n",
    "    def edge(self,array, u, v ):\n",
    "         if v in array[u-1]: return array[u-1][v] \n",
    "         return False \n",
    "    \n",
    "    def edge_is_foward(self,u,v):\n",
    "         if self.edge(self.array, u, v): return True\n",
    "         return False    \n",
    " \n",
    "         \n",
    "\n",
    "\n",
    "    def create_residual_array(self):\n",
    "          array =  [{} for i in range(self.n)]\n",
    "          for u in range(1,self.n+1):\n",
    "               for v in  self.array[u-1].keys():\n",
    "                    \n",
    "\n",
    "                    c = self.array[u-1][v][0]\n",
    "                    \n",
    "                    \n",
    "                    f = self.array[u-1][v][1]\n",
    "                    \n",
    "                    if (c - f) != 0:\n",
    "                         array[u-1][v] = [c-f ]\n",
    "                    if f  != 0:   \n",
    "                         array[v-1][u] = [f]\n",
    "          self.residual_array = array \n",
    "      \n",
    "  \n",
    "\n",
    "\n",
    "    def augment_path(self,array,path):\n",
    "         if path  == False: return 0\n",
    "         b = float('inf')\n",
    "         for i in range(len(path)-1):\n",
    "                    edge_c =  array[path[i]-1][path[i+1]]\n",
    "                    \n",
    "                    if edge_c[0]  < b: b = edge_c[0]\n",
    "                \n",
    "         for i in range(len(path)-1):    \n",
    "              if self.edge_is_foward(path[i],path[i+1]):\n",
    "                 \n",
    "                  self.array[path[i]-1][path[i+1]][1] += b \n",
    "              else: \n",
    "                   self.array[path[i]-1][path[i+1]][1] -= b \n",
    "                     \n",
    "         return b\n",
    "    \n",
    "    def update_residual_array(self,path,f):\n",
    "         for i in range(len(path)-1):    \n",
    "              if self.edge_is_foward(path[i],path[i+1]):\n",
    "                 \n",
    "                  self.residual_array[path[i]-1][path[i+1]][0] -= f \n",
    "              else: \n",
    "                   self.residual_array[path[i]-1][path[i+1]][0] += f \n",
    "         \n",
    "\n",
    "    def Ford_Fukerlson(self,s,t):\n",
    "         max_flow = 0\n",
    "         self.create_residual_array()\n",
    "         \n",
    "         path = self.path(self.residual_array ,s,t)\n",
    "        \n",
    "         while path != False: \n",
    "              f = self.augment_path(self.residual_array ,path)\n",
    "              max_flow += f\n",
    "              self.update_residual_array(path,f)\n",
    "              path = self.path(self.residual_array ,s,t)\n",
    "              \n",
    "         return max_flow\n",
    "     \n",
    "\n",
    "\n",
    "\n",
    "     "
   ]
  },
  {
   "cell_type": "code",
   "execution_count": 4,
   "metadata": {},
   "outputs": [],
   "source": [
    "graph0 = Graph(grafo0)  \n",
    "graph0.load()"
   ]
  },
  {
   "cell_type": "code",
   "execution_count": 5,
   "metadata": {},
   "outputs": [
    {
     "data": {
      "text/plain": [
       "30"
      ]
     },
     "execution_count": 5,
     "metadata": {},
     "output_type": "execute_result"
    }
   ],
   "source": [
    "graph0.Ford_Fukerlson(1,4)"
   ]
  },
  {
   "cell_type": "code",
   "execution_count": 6,
   "metadata": {},
   "outputs": [],
   "source": [
    "graph1 = Graph(grafo1)  \n",
    "graph1.load()\n",
    "  "
   ]
  },
  {
   "cell_type": "code",
   "execution_count": 7,
   "metadata": {},
   "outputs": [
    {
     "data": {
      "text/plain": [
       "1058"
      ]
     },
     "execution_count": 7,
     "metadata": {},
     "output_type": "execute_result"
    }
   ],
   "source": [
    "graph1.Ford_Fukerlson(1,2)"
   ]
  },
  {
   "cell_type": "code",
   "execution_count": 8,
   "metadata": {},
   "outputs": [],
   "source": [
    "graph2 = Graph(grafo2)  \n",
    "graph2.load()\n"
   ]
  },
  {
   "cell_type": "code",
   "execution_count": 9,
   "metadata": {},
   "outputs": [
    {
     "data": {
      "text/plain": [
       "11189"
      ]
     },
     "execution_count": 9,
     "metadata": {},
     "output_type": "execute_result"
    }
   ],
   "source": [
    "graph2.Ford_Fukerlson(1,2)"
   ]
  },
  {
   "cell_type": "code",
   "execution_count": 10,
   "metadata": {},
   "outputs": [],
   "source": [
    "graph3 = Graph(grafo3)  \n",
    "graph3.load()\n",
    "\n"
   ]
  },
  {
   "cell_type": "code",
   "execution_count": 11,
   "metadata": {},
   "outputs": [
    {
     "data": {
      "text/plain": [
       "2964"
      ]
     },
     "execution_count": 11,
     "metadata": {},
     "output_type": "execute_result"
    }
   ],
   "source": [
    "graph3.Ford_Fukerlson(1,2)"
   ]
  },
  {
   "cell_type": "code",
   "execution_count": 12,
   "metadata": {},
   "outputs": [],
   "source": [
    "graph4 = Graph(grafo4)  \n",
    "graph4.load()\n",
    "\n"
   ]
  },
  {
   "cell_type": "code",
   "execution_count": 13,
   "metadata": {},
   "outputs": [
    {
     "data": {
      "text/plain": [
       "13486"
      ]
     },
     "execution_count": 13,
     "metadata": {},
     "output_type": "execute_result"
    }
   ],
   "source": [
    "graph4.Ford_Fukerlson(1,2)"
   ]
  }
 ],
 "metadata": {
  "kernelspec": {
   "display_name": "Python 3",
   "language": "python",
   "name": "python3"
  },
  "language_info": {
   "codemirror_mode": {
    "name": "ipython",
    "version": 3
   },
   "file_extension": ".py",
   "mimetype": "text/x-python",
   "name": "python",
   "nbconvert_exporter": "python",
   "pygments_lexer": "ipython3",
   "version": "3.11.5"
  },
  "orig_nbformat": 4
 },
 "nbformat": 4,
 "nbformat_minor": 2
}
